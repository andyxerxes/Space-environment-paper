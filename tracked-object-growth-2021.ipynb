{
 "cells": [
  {
   "cell_type": "markdown",
   "metadata": {},
   "source": [
    "### Growth of all tracked objects, Aug 2021 version\n",
    "\n",
    "\n",
    "Plot growth of all tracked space objects 1960-2021  \n",
    "Categorised into Active, left overs, Dead, and Debris  \n",
    "\n",
    "Read in data from satdata-aug2021.txt \n",
    "Based on data provided by Jonathan McDowell  \n",
    "extracted from General Catalog of Artificial Space Objects\n",
    "\n",
    "J. McDowell, planet4589.org/space/gcat\n",
    "\n",
    "\n",
    "ydate: col-1  \n",
    "\n",
    "Active = ACM(2) ACN(3) + Star(4)    \n",
    "Dead = PL(5) + PX(6)   \n",
    "Deliberate = RB(7) + Part(8)   \n",
    "Debris = Deb(11) + DebPRC(9) + DebIR(10)  \n",
    "Total=13\n",
    "\n",
    "Note that the Iridium-Kosmos collision was Feb 2009; the Chinese ASAT test was 2007"
   ]
  },
  {
   "cell_type": "raw",
   "metadata": {},
   "source": []
  },
  {
   "cell_type": "code",
   "execution_count": 4,
   "metadata": {},
   "outputs": [],
   "source": [
    "from math import *\n",
    "import numpy as np\n",
    "import matplotlib\n",
    "from matplotlib import pyplot as plt\n",
    "\n",
    "# pick a plotting option\n",
    "#% matplotlib osx\n",
    "#% matplotlib inline \n",
    "#% matplotlib qt\n",
    "#% matplotlib --list"
   ]
  },
  {
   "cell_type": "markdown",
   "metadata": {},
   "source": [
    "Read in data"
   ]
  },
  {
   "cell_type": "code",
   "execution_count": 5,
   "metadata": {},
   "outputs": [],
   "source": [
    "fname='satdata-aug2021.txt'  # file name\n",
    "\n",
    "ydate=np.loadtxt(fname, skiprows=21, usecols=(1))\n",
    "\n",
    "acm=np.loadtxt(fname, skiprows=21, usecols=(2))\n",
    "acn=np.loadtxt(fname, skiprows=21, usecols=(3))\n",
    "star=np.loadtxt(fname, skiprows=21, usecols=(4))\n",
    "active=acm+acn+star\n",
    "\n",
    "pl=np.loadtxt(fname,skiprows=21,usecols=(5))\n",
    "px=np.loadtxt(fname,skiprows=21,usecols=(6))\n",
    "dead=np.add(pl,px)\n",
    "\n",
    "rb=np.loadtxt(fname,skiprows=21,usecols=(7))\n",
    "part=np.loadtxt(fname,skiprows=21,usecols=(8))\n",
    "delib=np.add(rb,part)\n",
    "\n",
    "deb=np.loadtxt(fname,skiprows=21,usecols=(11))\n",
    "debprc=np.loadtxt(fname,skiprows=21,usecols=(9))\n",
    "debir=np.loadtxt(fname,skiprows=21,usecols=(10))\n",
    "debtot=deb+debprc+debir\n",
    "\n",
    "total=np.loadtxt(fname,skiprows=21,usecols=(13))\n",
    "\n"
   ]
  },
  {
   "cell_type": "markdown",
   "metadata": {},
   "source": [
    "Make plot"
   ]
  },
  {
   "cell_type": "code",
   "execution_count": 6,
   "metadata": {},
   "outputs": [],
   "source": [
    "#% matplotlib osx\n",
    "#% matplotlib inline\n",
    "\n",
    "fig1=plt.figure()\n",
    "ax1=fig1.gca()\n",
    "ax1.set_xlabel('Year', size=16)\n",
    "ax1.tick_params(labelsize=16)\n",
    "\n",
    "ax1.text(1955.0,20000.0,'All tracked\\nspace objects',size=16)\n",
    "\n",
    "ax1.plot(ydate,active,'b-',lw=2)\n",
    "ax1.text(2017.0,700.0,'Active',size=12)\n",
    "\n",
    "ax1.plot(ydate,dead,'k-',lw=2)\n",
    "ax1.text(2000.0,1200.0,'Dead',size=12)\n",
    "\n",
    "ax1.plot(ydate,delib,'g-',lw=2)\n",
    "ax1.text(2002.0,3500.0,'Left overs',size=12)\n",
    "\n",
    "ax1.plot(ydate,debtot,'c-',lw=2)\n",
    "ax1.text(2012.5,9200.0,'Debris',size=12)\n",
    "\n",
    "ax1.plot(ydate,total,'r-',lw=2)\n",
    "ax1.text(2012.5,19500.0,'Total',size=12)\n",
    "\n",
    "ax1.annotate('Chinese\\nweapons\\ntest',\n",
    "xy=(2006.5,13300.0),xytext=(1970.0,12000.0), \n",
    "arrowprops=dict(facecolor='gray',\n",
    "width=2,headwidth=6,headlength=6),\n",
    "             size='10')\n",
    "\n",
    "ax1.annotate('Iridium-Kosmos\\ncollision',\n",
    "xy=(2008.5,16450.0),xytext=(1985.0,15700.0), \n",
    "arrowprops=dict(facecolor='gray',\n",
    "width=2,headwidth=6,headlength=6),\n",
    "             size='10')\n",
    "\n",
    "\n",
    "\n",
    "plt.show()\n",
    "\n"
   ]
  },
  {
   "cell_type": "code",
   "execution_count": null,
   "metadata": {},
   "outputs": [],
   "source": []
  },
  {
   "cell_type": "code",
   "execution_count": null,
   "metadata": {},
   "outputs": [],
   "source": []
  },
  {
   "cell_type": "code",
   "execution_count": null,
   "metadata": {},
   "outputs": [],
   "source": []
  }
 ],
 "metadata": {
  "kernelspec": {
   "display_name": "Python 3",
   "language": "python",
   "name": "python3"
  },
  "language_info": {
   "codemirror_mode": {
    "name": "ipython",
    "version": 3
   },
   "file_extension": ".py",
   "mimetype": "text/x-python",
   "name": "python",
   "nbconvert_exporter": "python",
   "pygments_lexer": "ipython3",
   "version": "3.6.5"
  }
 },
 "nbformat": 4,
 "nbformat_minor": 2
}
