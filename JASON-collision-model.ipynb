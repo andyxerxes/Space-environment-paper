{
 "cells": [
  {
   "cell_type": "markdown",
   "metadata": {},
   "source": [
    "### JASON collision model plot\n",
    "\n",
    "Make plots using the JASON simplified collision model \n",
    "This reproduces Fig. 20 of the JASON report on megaconstellations \n",
    "\n",
    "(i) Active satellites vs time  \n",
    "(ii) Derelicts vs time  \n",
    "(iii) Lethal debris vs time\n",
    "\n",
    "On separate axis, plot cumulative collisions vs time\n",
    "\n",
    "Divide debris collisions into \n",
    "minor = 1mm too 1cm  \n",
    "disabling = 1cm to 10cm  \n",
    "lethal = larger than 10cm  \n",
    "\n",
    "Solve for time varying quantities:   \n",
    "$S$ = number of live satellites  \n",
    "$D$ = number of derelict satellites  \n",
    "$N$ = number of lethal debris objects\n",
    "\n",
    "$n=N/V$ = number density of lethal debris  \n",
    "$n0$ = starting density of lethal debris  \n",
    "(this is used because assumed to stay the same in the shell above,\n",
    "and some debris drifts down)\n",
    "\n",
    "To use the JASON rate equations, don't need to convert everything to SI, but do\n",
    "need to use consistent units:  \n",
    "\n",
    "time in years  \n",
    "lengths in km  \n",
    "speed in km/yr  \n",
    "cross-section in km^2  \n",
    "number density in km^-3  \n",
    "shell volume in km^3  \n",
    "\n",
    "Collisions:  rate is just $r=n\\sigma v$ per object  \n",
    "if units are as above then $r$ is in units of number per year.  \n",
    "\n",
    "Here $n$ is number density of impactors, i.e. Debris,\n",
    "and so ignoring satellite-satellite collisions. \n",
    "collisions per year is $r(S+D)$\n",
    "\n",
    "Note that this is lethal collisions, producing more fragments. The model assumes that the number of\n",
    "disabling fragments is $\\delta$ times as many. This determines the rate at which derelicts are made. Note that the model assumes that derelicts can't avoid collisions at all, and even the live satellites fail to avoid some fraction of collisions.\n"
   ]
  },
  {
   "cell_type": "code",
   "execution_count": 24,
   "metadata": {},
   "outputs": [],
   "source": [
    "from math import *\n",
    "import numpy as np\n",
    "from matplotlib import pyplot as plt\n",
    "\n",
    "# pick a plotting option\n",
    "#% matplotlib osx\n",
    "#% matplotlib inline \n",
    "#% matplotlib qt\n",
    "#% matplotlib --list"
   ]
  },
  {
   "cell_type": "markdown",
   "metadata": {},
   "source": [
    "Set parameters for model in natural units but immediately convert to our standard units as above"
   ]
  },
  {
   "cell_type": "code",
   "execution_count": 25,
   "metadata": {},
   "outputs": [],
   "source": [
    "lamda = 10000    # launches per year\n",
    "\n",
    "sigma = 10  # collision cross-section per satellite in m^2\n",
    "sigma = sigma/(1000.*1000) # now in km^2\n",
    "\n",
    "v = 10 # typical relative velocity km/s\n",
    "v = v * 3600.*24*365  # now km/yr\n",
    "\n",
    "delt = 5 # satellite lifetime in yrs\n",
    "N0 = 100 # number of lethal debris fragments created in a collision\n",
    "delta = 10 # ratio of disabling to lethal debris objects  \n",
    "alpha = 0.2 # fraction of lethal collisions not avoided\n",
    "P = 0.95 # post mission disposal probability\n",
    "tau = 5 # atmospheric drag lifetime in yrs\n",
    "\n",
    "n0=2.5E-8 # current number density of lethal objects km^-3\n",
    "\n",
    "dh=25 # shell thickness in km\n",
    "h=600 # shell height in km\n",
    "RE=6378 # radius of Earth in km\n",
    "\n",
    "R=RE+h\n",
    "V=4.*pi*R*R*dh  # shell volume in km^3\n"
   ]
  },
  {
   "cell_type": "markdown",
   "metadata": {},
   "source": [
    "Set up time array and initialise time  varying quantities. Set finite value for first element to prevent blow-up."
   ]
  },
  {
   "cell_type": "code",
   "execution_count": 26,
   "metadata": {},
   "outputs": [],
   "source": [
    "t0=0.0\n",
    "tmax=50.0  # in years\n",
    "tstep= 0.1\n",
    "tarray = np.arange(t0,tmax,tstep)\n",
    "\n",
    "S=np.zeros(len(tarray)); S[0]=0.01\n",
    "D=np.zeros(len(tarray)); D[0]=0.01\n",
    "n=np.zeros(len(tarray))\n",
    "n=n+n0 # initialise debris density at n0\n",
    "N=n*V\n",
    "# cumulative disabling plus lethal collisions\n",
    "Ccoll=np.zeros(len(tarray)); Ccoll[0]=0.001    \n",
    "\n",
    "logS=np.zeros(len(tarray)); logS[0]=log10(S[0])\n",
    "logD=np.zeros(len(tarray)); logD[0]=log10(D[0])\n",
    "logN=np.zeros(len(tarray)); logN[0]=log10(N[0])\n",
    "logCcoll=np.zeros(len(tarray)); logCcoll[0]=log10(Ccoll[0])\n",
    "\n",
    "\n"
   ]
  },
  {
   "cell_type": "markdown",
   "metadata": {},
   "source": [
    "Loop through time; calculate rates; increment values."
   ]
  },
  {
   "cell_type": "code",
   "execution_count": 27,
   "metadata": {},
   "outputs": [],
   "source": [
    "for i in range(0,(len(tarray)-1)):\n",
    "    Sdot = lamda  - S[i]/delt - (delta+alpha)*n[i]*sigma*v*S[i]\n",
    "    S[i+1]=S[i]+Sdot*tstep\n",
    "    logS[i+1]=log10(S[i+1])\n",
    "    \n",
    "    Ddot = (1.-P)*S[i]/delt + delta*n[i]*sigma*v*S[i] - n[i]*sigma*v*D[i] -D[i]/tau\n",
    "#    print(i,S[i],S[i+1],Ddot)\n",
    "    D[i+1]=D[i]+Ddot*tstep\n",
    "    logD[i+1]=log10(D[i+1])\n",
    "\n",
    "    Ndot = n[i]*sigma*v*N0*(alpha*S[i]+D[i]) +n0*V/tau - N[i]/tau\n",
    "    N[i+1]=N[i]+Ndot*tstep\n",
    "    n[i+1]=N[i+1]/V\n",
    "    logN[i+1]=log10(N[i+1])\n",
    "    \n",
    "    dC=n[i]*sigma*v*tstep* (S[i]*(alpha+delta) + D[i]) # collisions in this timestep\n",
    "    Ccoll[i+1]=Ccoll[i]+dC # collisions so far\n",
    "    logCcoll[i+1]=log10(Ccoll[i+1])\n"
   ]
  },
  {
   "cell_type": "markdown",
   "metadata": {},
   "source": [
    "Now make the plot; use logarithmic version, as per JASON report."
   ]
  },
  {
   "cell_type": "code",
   "execution_count": 28,
   "metadata": {},
   "outputs": [],
   "source": [
    "ymin=2.0\n",
    "ymax=5.0\n",
    "xmin=0.0\n",
    "xmax=50.0\n",
    "#Cmult=100.; not needed now...\n",
    "#logCmult=log10(Cmult)\n",
    "\n",
    "fig, ax1 = plt.subplots()\n",
    "ax1.set_xlim([xmin,xmax])\n",
    "ax1.set_ylim([ymin,ymax])\n",
    "\n",
    "# satellites\n",
    "ax1.plot(tarray,logS, color='black', lw=2.0)\n",
    "# derelicts\n",
    "ax1.plot(tarray,logD, color='blue', lw=2.0)\n",
    "# lethal debris\n",
    "ax1.plot(tarray,logN, color='red', lw=2.0)\n",
    "\n",
    "ax1.tick_params(labelsize=14)\n",
    "ax1.set_xlabel('Time, yrs', size=14)\n",
    "ax1.set_ylabel('log (Number)', size=14)\n",
    "\n",
    "\n",
    "ax2=ax1.twinx()\n",
    "ax2.plot(tarray,logCcoll, '--',color='black')\n",
    "ax2.set_ylabel('log(Cumulative collisions)', size=14)\n",
    "ax2.tick_params(labelsize=14)\n",
    "\n",
    "\n",
    "plt.show()"
   ]
  },
  {
   "cell_type": "code",
   "execution_count": null,
   "metadata": {},
   "outputs": [],
   "source": []
  }
 ],
 "metadata": {
  "kernelspec": {
   "display_name": "Python 3",
   "language": "python",
   "name": "python3"
  },
  "language_info": {
   "codemirror_mode": {
    "name": "ipython",
    "version": 3
   },
   "file_extension": ".py",
   "mimetype": "text/x-python",
   "name": "python",
   "nbconvert_exporter": "python",
   "pygments_lexer": "ipython3",
   "version": "3.6.5"
  }
 },
 "nbformat": 4,
 "nbformat_minor": 2
}
