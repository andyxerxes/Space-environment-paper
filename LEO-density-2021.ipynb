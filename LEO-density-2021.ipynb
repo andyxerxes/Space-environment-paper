{
 "cells": [
  {
   "cell_type": "markdown",
   "metadata": {},
   "source": [
    "#### Density of LEO objects versus height\n",
    "\n",
    "Make two plots:  \n",
    "\n",
    "Plot-1 is a 2D dot-plot, with different colours representing the categories. X-axis is the actual height of individual objects. (Average of apogee and perigee typically). Y-axis is a random number between 0 and 1. Could think of this as representing azimuth, randomly chosen, but the real point is simply to stretch into 2D for visualisation reasons. Crowded regions stand out very clearly as vertical stripes, and we can see the regions where categories overlap. However, the density of dots on the screen/paper does not represent volume density.\n",
    "\n",
    "\n",
    "Plo-2 is a binned density histogram vs height, with the number per bin scaled so that we get correct number per unit volume. Do this with all objects together, not in categories, except for Cosmos 1408 simulation objects. \n",
    "\n",
    "Read in data files split into categories:  \n",
    "Categories:  \n",
    "1=active, including starlink    \n",
    "2=debris, including PRC and Ir    \n",
    "3=leftover (derelict PL and Parts)  \n",
    "4=C1408 simulated debris  \n",
    "\n",
    "\n",
    "Based on data provided by Jonathan McDowell  \n",
    "extracted from General Catalog of Artificial Space Objects  \n",
    "and simulated debris from C1408 ASAT test, sent by Hugh Lewis, trimmed by me  \n",
    "\n",
    "\n",
    "First, setup:"
   ]
  },
  {
   "cell_type": "code",
   "execution_count": null,
   "metadata": {},
   "outputs": [],
   "source": [
    "from math import *\n",
    "import random as rand\n",
    "import numpy as np\n",
    "from matplotlib import pyplot as plt\n",
    "\n",
    "# pick a plotting option\n",
    "#% matplotlib osx\n",
    "#% matplotlib inline \n",
    "#% matplotlib qt\n",
    "#% matplotlib --list\n",
    "\n",
    "RE=6378.  # mean radius of Earth\n",
    "hmin=0.0      # min height for plots\n",
    "hmax=1750.0   # max height for plots\n",
    "plt.rcParams['text.usetex'] = True  # enable proper TeX in labels"
   ]
  },
  {
   "cell_type": "markdown",
   "metadata": {},
   "source": [
    "Now read in datasets, merge into groups as desired, and create random y-axis arrays"
   ]
  },
  {
   "cell_type": "code",
   "execution_count": null,
   "metadata": {},
   "outputs": [],
   "source": [
    "#### active satellites\n",
    "fname=\"jmd-ac.txt\" # non-starlink, includes ACN and ACM\n",
    "agee=np.loadtxt(fname, usecols=(2))\n",
    "pgee=np.loadtxt(fname, usecols=(3))\n",
    "htac=(agee+pgee)/2.\n",
    "\n",
    "fname=\"jmd-star.txt\"  # Starlink\n",
    "agee=np.loadtxt(fname, usecols=(2))\n",
    "pgee=np.loadtxt(fname, usecols=(3))\n",
    "htstar=(agee+pgee)/2.\n",
    "    \n",
    "htact=np.concatenate([htac,htstar])\n",
    "yact=np.zeros(len(htact))\n",
    "for  i in range(0,len(htact)):\n",
    "    yact[i]=rand.random()\n",
    "\n",
    "\n",
    "#### Debris\n",
    "\n",
    "fname=\"jmd-deb.txt\"  # debris other than debPRC and DebIr\n",
    "agee=np.loadtxt(fname, usecols=(2))\n",
    "pgee=np.loadtxt(fname, usecols=(3))\n",
    "htdeb=(agee+pgee)/2.\n",
    "\n",
    "fname=\"jmd-debir.txt\"\n",
    "agee=np.loadtxt(fname, usecols=(2))\n",
    "pgee=np.loadtxt(fname, usecols=(3))\n",
    "htdebir=(agee+pgee)/2.\n",
    "\n",
    "fname=\"jmd-debprc.txt\"\n",
    "agee=np.loadtxt(fname, usecols=(2))\n",
    "pgee=np.loadtxt(fname, usecols=(3))\n",
    "htdebprc=(agee+pgee)/2.\n",
    "\n",
    "htdeball=np.concatenate([htdeb,htdebir,htdebprc])\n",
    "ydeball=np.zeros(len(htdeball))\n",
    "for  i in range(0,len(htdeball)):\n",
    "    ydeball[i]=rand.random()\n",
    "\n",
    "\n",
    "#### Left overs\n",
    "\n",
    "fname=\"jmd-part.txt\"   # parts including Part and RB\n",
    "agee=np.loadtxt(fname, usecols=(2))\n",
    "pgee=np.loadtxt(fname, usecols=(3))\n",
    "htpart=(agee+pgee)/2.\n",
    "\n",
    "fname=\"jmd-dead.txt\"    # derelict payloads including PL and PX\n",
    "agee=np.loadtxt(fname, usecols=(2))\n",
    "pgee=np.loadtxt(fname, usecols=(3))\n",
    "htdead=(agee+pgee)/2.\n",
    "\n",
    "htleft=np.concatenate([htpart,htdead])\n",
    "yleft=np.zeros(len(htleft))\n",
    "for  i in range(0,len(htleft)):\n",
    "    yleft[i]=rand.random()\n",
    "\n",
    "    \n",
    "#### C1408 simulation data\n",
    "fname=\"C1408-sim.txt\"\n",
    "SMA=np.loadtxt(fname, usecols=(0))    # ignoring eccentricity...\n",
    "htc1408=SMA-RE   \n",
    "yc1408=np.zeros(len(htc1408))\n",
    "for  i in range(0,len(htc1408)):\n",
    "    yc1408[i]=rand.random()\n"
   ]
  },
  {
   "cell_type": "markdown",
   "metadata": {},
   "source": [
    "Now make the 2D dot-plot. Distinguish with colours, but avoid colour-blindness issues: red-green is the main one, and blue-yellow is the other"
   ]
  },
  {
   "cell_type": "code",
   "execution_count": null,
   "metadata": {},
   "outputs": [],
   "source": [
    "plt.figure()\n",
    "msize=1.5\n",
    "plt.xlim([hmin,hmax])\n",
    "plt.plot(htact,yact,'o',ms=2.5,color='blue')  \n",
    "plt.plot(htdeball,ydeball,'o',ms=msize,color='gray')  \n",
    "plt.plot(htleft,yleft,'o',ms=msize,color='black') \n",
    "plt.plot(htc1408,yc1408,'o',ms=msize, color='red')\n",
    "#plt.xlabel('Height above Earth, km',size=16) \n",
    "plt.tick_params(labelsize=16)\n",
    "plt.show()"
   ]
  },
  {
   "cell_type": "markdown",
   "metadata": {},
   "source": [
    "Now make two histograms - the known objects, concatenated into single list, and the simulated C1408 points. \n",
    "\n",
    "Use numpy histogram routine rather than relying on plt.hist, as this makes it easier to manipulate.\n",
    "\n",
    "Uses same hmin and hmax as dot-plot, but need to choose binsize"
   ]
  },
  {
   "cell_type": "code",
   "execution_count": null,
   "metadata": {},
   "outputs": [],
   "source": [
    "htall=np.concatenate([htact,htdeball,htleft])\n",
    "\n",
    "binsize=10.0\n",
    "\n",
    "# set an array of the bin edges, \n",
    "# starting at left-end of first bin = hmin\n",
    "# and ending at right-end of last bin = hmax\n",
    "# note arange has start,stop, step, but doesn't include stop-value\n",
    "binarray=np.arange(hmin,hmax+binsize,binsize)   \n",
    "\n",
    "# histogram routine outputs two arrays\n",
    "# first is values, second is bin edges, including both ends\n",
    "valsall, edgesall = np.histogram(htall, bins=binarray)\n",
    "leftall=edgesall[:(len(edgesall) -1)] # left edges only\n",
    "valsc1408, edgesc1408 = np.histogram(htc1408, bins=binarray)\n",
    "\n",
    "\n",
    "# get density in each bin\n",
    "# by dividing by volume of shell\n",
    "# use radius at centre of bin\n",
    "\n",
    "vol=np.zeros(len(leftall))\n",
    "rhoall=np.zeros(len(leftall))\n",
    "rhoc1408=np.zeros(len(leftall))\n",
    "\n",
    "for i in range(0,len(vol)):\n",
    "    radius=RE+leftall[i]+0.5*binsize\n",
    "    vol[i] = 4.*pi*radius*radius*binsize\n",
    "    rhoall[i]=valsall[i]/vol[i]\n",
    "    rhoc1408[i]=valsc1408[i]/vol[i]\n",
    "#    print(i,leftall[i],vol[i],rho[i])\n",
    "\n",
    "rhoall=1.e7*rhoall\n",
    "rhoc1408=1.e7*rhoc1408\n",
    "rhotot=rhoall+rhoc1408"
   ]
  },
  {
   "cell_type": "markdown",
   "metadata": {},
   "source": [
    "Now make the density histogram plot, then plot. Use a stacked plot to compared known objects and simulated c1408 objects.\n",
    "\n",
    "Need to choose rhomax.\n",
    "\n",
    "Note main problem is that the Starlink density spike is enormous. Hard to show the true height of this without making the rest of the figure too teeny. Just have to let it shoot off the top.\n",
    "\n"
   ]
  },
  {
   "cell_type": "code",
   "execution_count": null,
   "metadata": {},
   "outputs": [],
   "source": [
    "rhomax=3.0e-7\n",
    "\n",
    "\n",
    "plt.figure()\n",
    "\n",
    "plt.xlim([0.0,1750.0])\n",
    "plt.bar(leftall,rhotot,width=binsize,color='grey')\n",
    "plt.bar(leftall,rhoc1408,width=binsize,color='red')\n",
    "\n",
    "plt.xlabel('Height above Earth, km',size=16) \n",
    "plt.ylabel('$10^7$ objects km$^{-3}$',size=16) \n",
    "\n",
    "plt.tick_params(labelsize=16)\n",
    "\n",
    "plt.show()"
   ]
  },
  {
   "cell_type": "code",
   "execution_count": null,
   "metadata": {},
   "outputs": [],
   "source": []
  },
  {
   "cell_type": "code",
   "execution_count": null,
   "metadata": {},
   "outputs": [],
   "source": []
  }
 ],
 "metadata": {
  "kernelspec": {
   "display_name": "Python 3",
   "language": "python",
   "name": "python3"
  },
  "language_info": {
   "codemirror_mode": {
    "name": "ipython",
    "version": 3
   },
   "file_extension": ".py",
   "mimetype": "text/x-python",
   "name": "python",
   "nbconvert_exporter": "python",
   "pygments_lexer": "ipython3",
   "version": "3.6.5"
  }
 },
 "nbformat": 4,
 "nbformat_minor": 2
}
