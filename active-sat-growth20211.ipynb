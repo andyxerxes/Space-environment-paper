{
 "cells": [
  {
   "cell_type": "markdown",
   "metadata": {},
   "source": [
    "### Aug 2021 version of active satellite growth plot\n",
    "\n",
    "Plot growth of active satellites versus time.  \n",
    "Plot-1: all active satellites from 1980-2021  \n",
    "Plot-2: zoom in to 2016-2021, distinguishing Starlink  \n",
    "\n",
    "Read in data from satdata-aug2021.txt \n",
    "Based on data provided by Jonathan McDowell  \n",
    "extracted from General Catalog of Artificial Space Objects\n",
    "\n",
    "J. McDowell, planet4589.org/space/gcat\n",
    "\n",
    "ydate= col 1   \n",
    "active = ACM (col2)  + ACM (col 3)  \n",
    "starlink=star (col 4)  \n",
    "\n"
   ]
  },
  {
   "cell_type": "code",
   "execution_count": 4,
   "metadata": {},
   "outputs": [],
   "source": [
    "from math import *\n",
    "import numpy as np\n",
    "import matplotlib\n",
    "from matplotlib import pyplot as plt\n",
    "\n",
    "# pick a plotting option\n",
    "#% matplotlib osx\n",
    "#% matplotlib inline \n",
    "#% matplotlib qt\n",
    "#% matplotlib --list\n"
   ]
  },
  {
   "cell_type": "markdown",
   "metadata": {},
   "source": [
    "Read in the data"
   ]
  },
  {
   "cell_type": "code",
   "execution_count": 5,
   "metadata": {},
   "outputs": [],
   "source": [
    "fname='satdata-aug2021.txt'  # file name\n",
    "\n",
    "ydate=np.loadtxt(fname,usecols=(1))\n",
    "\n",
    "acm=np.loadtxt(fname, usecols=(2))\n",
    "acn=np.loadtxt(fname,  usecols=(3))\n",
    "ac=acm+acn\n",
    "\n",
    "acm2=np.loadtxt(fname,  usecols=(2))\n",
    "acn2=np.loadtxt(fname,  usecols=(3))\n",
    "ac2=acm2=acn2\n",
    "\n",
    "star=np.loadtxt(fname,  usecols=(4))\n",
    "star2=np.loadtxt(fname,  usecols=(4))\n",
    "\n",
    "both=np.add(ac,star)\n",
    "both2=np.add(ac2,star2)\n"
   ]
  },
  {
   "cell_type": "markdown",
   "metadata": {},
   "source": [
    "Make the plots.  "
   ]
  },
  {
   "cell_type": "code",
   "execution_count": 6,
   "metadata": {},
   "outputs": [],
   "source": [
    "fig1=plt.figure()\n",
    "ax1=fig1.gca()\n",
    "ax1.axis([1980,2022,0,5000])\n",
    "#ax1.set_title('All active satellites', size=16)\n",
    "ax1.set_xlabel('Year', size=16)\n",
    "#ax1.set_ylabel('y0', size=16)\n",
    "ax1.tick_params(labelsize=16)\n",
    "#ax1.plot(ydate,ac,'b-',lw=3)\n",
    "#ax1.plot(ydate2,star2,'r-',lw=2)\n",
    "ax1.plot(ydate,both,'b-',lw=3)\n",
    "ax1.text(1990.0,2500.0,'Active satellites \\nversus time',size=16)\n",
    "plt.show()\n",
    "\n",
    "fig2=plt.figure()\n",
    "ax2=fig2.gca()\n",
    "ax2.axis([2016,2022,0,5000])\n",
    "ax2.set_xlabel('Year', size=16)\n",
    "#ax1.set_ylabel('y0', size=16)\n",
    "ax2.tick_params(labelsize=16)\n",
    "ax2.plot(ydate,ac,'b-',lw=3)\n",
    "ax2.fill_between(ydate,both,ac,color='red')\n",
    "ax2.text(2018.0,900.0,'Everything\\nelse',size=16)\n",
    "ax2.text(2019.4,2900.0,'Starlink',size=16)\n",
    "\n",
    "plt.show()"
   ]
  },
  {
   "cell_type": "code",
   "execution_count": null,
   "metadata": {},
   "outputs": [],
   "source": []
  },
  {
   "cell_type": "code",
   "execution_count": null,
   "metadata": {},
   "outputs": [],
   "source": []
  },
  {
   "cell_type": "code",
   "execution_count": null,
   "metadata": {},
   "outputs": [],
   "source": []
  },
  {
   "cell_type": "code",
   "execution_count": null,
   "metadata": {},
   "outputs": [],
   "source": []
  }
 ],
 "metadata": {
  "kernelspec": {
   "display_name": "Python 3",
   "language": "python",
   "name": "python3"
  },
  "language_info": {
   "codemirror_mode": {
    "name": "ipython",
    "version": 3
   },
   "file_extension": ".py",
   "mimetype": "text/x-python",
   "name": "python",
   "nbconvert_exporter": "python",
   "pygments_lexer": "ipython3",
   "version": "3.6.5"
  }
 },
 "nbformat": 4,
 "nbformat_minor": 2
}
